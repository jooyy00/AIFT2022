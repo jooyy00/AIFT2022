{
 "cells": [
  {
   "cell_type": "markdown",
   "metadata": {},
   "source": [
    "# 백테스팅: 베이스라인2"
   ]
  },
  {
   "cell_type": "code",
   "execution_count": 1,
   "metadata": {},
   "outputs": [],
   "source": [
    "import xml.etree.ElementTree as elemTree\n",
    "import os\n",
    "import sys\n",
    "tree = elemTree.parse(r'../config/.config.xml')\n",
    "root = tree.getroot()\n",
    "xx = root.find('./PATHS')\n",
    "work_path = xx.find('work').text\n",
    "sys.path.append(work_path)"
   ]
  },
  {
   "cell_type": "code",
   "execution_count": 2,
   "metadata": {},
   "outputs": [],
   "source": [
    "import numpy\n",
    "import talib\n",
    "from miscs.config_manager import ConfigManager\n",
    "import pandas as pd\n",
    "from sqlalchemy import create_engine\n",
    "from tqdm.auto import tqdm\n",
    "from realtime_kiwoom.data_provider import *\n",
    "import re\n",
    "import numpy as np\n",
    "import argparse\n",
    "from miscs.time_manager import TimeManager"
   ]
  },
  {
   "cell_type": "code",
   "execution_count": 3,
   "metadata": {},
   "outputs": [],
   "source": [
    "cm = ConfigManager('../config/.config.xml')"
   ]
  },
  {
   "cell_type": "markdown",
   "metadata": {},
   "source": [
    "# 데이터 로딩"
   ]
  },
  {
   "cell_type": "markdown",
   "metadata": {},
   "source": [
    "2022-08-01 ~ 2022-09-29일까지만 테스트 하기 위해 최근 90일치를 로딩함\n",
    "\n",
    "작성 날짜 기준 2022-09-30까지 분봉이 수집되어 있음"
   ]
  },
  {
   "cell_type": "code",
   "execution_count": 4,
   "metadata": {},
   "outputs": [],
   "source": [
    "history_provider = MinuteChartDataProvider.Factory(cm, tag='history')\n",
    "history_minute_dic = history_provider.get_history_from_ndays_ago(n_days=110)"
   ]
  },
  {
   "cell_type": "code",
   "execution_count": 5,
   "metadata": {},
   "outputs": [],
   "source": [
    "action_dic = {'X':'069500', 'Y':'114800'}"
   ]
  },
  {
   "cell_type": "markdown",
   "metadata": {},
   "source": [
    "날것의 분봉 데이터 조인 및 예측치 로딩"
   ]
  },
  {
   "cell_type": "code",
   "execution_count": 6,
   "metadata": {},
   "outputs": [],
   "source": [
    "raw_merged_df = pd.merge(history_minute_dic['069500'], history_minute_dic['114800'], left_index=True, right_index=True, how='inner', suffixes=('_X', '_Y'))\n",
    "y_pred = pd.read_pickle('.y_pred_baseline2_10m.pkl').rename('decision')"
   ]
  },
  {
   "cell_type": "markdown",
   "metadata": {},
   "source": [
    "~~y_pred.shift(1)을 하여, t 분의 결정을 t+1 분의 행으로 옮긴다. (시뮬레이션을 편히 하기 위함)~~"
   ]
  },
  {
   "cell_type": "code",
   "execution_count": 7,
   "metadata": {},
   "outputs": [
    {
     "data": {
      "text/html": [
       "<div>\n",
       "<style scoped>\n",
       "    .dataframe tbody tr th:only-of-type {\n",
       "        vertical-align: middle;\n",
       "    }\n",
       "\n",
       "    .dataframe tbody tr th {\n",
       "        vertical-align: top;\n",
       "    }\n",
       "\n",
       "    .dataframe thead th {\n",
       "        text-align: right;\n",
       "    }\n",
       "</style>\n",
       "<table border=\"1\" class=\"dataframe\">\n",
       "  <thead>\n",
       "    <tr style=\"text-align: right;\">\n",
       "      <th></th>\n",
       "      <th>st_code_X</th>\n",
       "      <th>open_X</th>\n",
       "      <th>high_X</th>\n",
       "      <th>low_X</th>\n",
       "      <th>close_X</th>\n",
       "      <th>volume_X</th>\n",
       "      <th>st_code_Y</th>\n",
       "      <th>open_Y</th>\n",
       "      <th>high_Y</th>\n",
       "      <th>low_Y</th>\n",
       "      <th>close_Y</th>\n",
       "      <th>volume_Y</th>\n",
       "      <th>action</th>\n",
       "    </tr>\n",
       "    <tr>\n",
       "      <th>dt</th>\n",
       "      <th></th>\n",
       "      <th></th>\n",
       "      <th></th>\n",
       "      <th></th>\n",
       "      <th></th>\n",
       "      <th></th>\n",
       "      <th></th>\n",
       "      <th></th>\n",
       "      <th></th>\n",
       "      <th></th>\n",
       "      <th></th>\n",
       "      <th></th>\n",
       "      <th></th>\n",
       "    </tr>\n",
       "  </thead>\n",
       "  <tbody>\n",
       "    <tr>\n",
       "      <th>2022-07-19 09:00:00+09:00</th>\n",
       "      <td>069500</td>\n",
       "      <td>31386</td>\n",
       "      <td>31431</td>\n",
       "      <td>31341</td>\n",
       "      <td>31346</td>\n",
       "      <td>107702</td>\n",
       "      <td>114800</td>\n",
       "      <td>4920</td>\n",
       "      <td>4930</td>\n",
       "      <td>4915</td>\n",
       "      <td>4925</td>\n",
       "      <td>1620381</td>\n",
       "      <td>NaN</td>\n",
       "    </tr>\n",
       "    <tr>\n",
       "      <th>2022-07-19 09:01:00+09:00</th>\n",
       "      <td>069500</td>\n",
       "      <td>31336</td>\n",
       "      <td>31346</td>\n",
       "      <td>31301</td>\n",
       "      <td>31301</td>\n",
       "      <td>18248</td>\n",
       "      <td>114800</td>\n",
       "      <td>4925</td>\n",
       "      <td>4935</td>\n",
       "      <td>4925</td>\n",
       "      <td>4935</td>\n",
       "      <td>866290</td>\n",
       "      <td>NaN</td>\n",
       "    </tr>\n",
       "    <tr>\n",
       "      <th>2022-07-19 09:02:00+09:00</th>\n",
       "      <td>069500</td>\n",
       "      <td>31301</td>\n",
       "      <td>31336</td>\n",
       "      <td>31296</td>\n",
       "      <td>31321</td>\n",
       "      <td>8322</td>\n",
       "      <td>114800</td>\n",
       "      <td>4935</td>\n",
       "      <td>4935</td>\n",
       "      <td>4925</td>\n",
       "      <td>4925</td>\n",
       "      <td>569745</td>\n",
       "      <td>NaN</td>\n",
       "    </tr>\n",
       "    <tr>\n",
       "      <th>2022-07-19 09:03:00+09:00</th>\n",
       "      <td>069500</td>\n",
       "      <td>31311</td>\n",
       "      <td>31326</td>\n",
       "      <td>31291</td>\n",
       "      <td>31306</td>\n",
       "      <td>17412</td>\n",
       "      <td>114800</td>\n",
       "      <td>4930</td>\n",
       "      <td>4935</td>\n",
       "      <td>4925</td>\n",
       "      <td>4930</td>\n",
       "      <td>140670</td>\n",
       "      <td>NaN</td>\n",
       "    </tr>\n",
       "    <tr>\n",
       "      <th>2022-07-19 09:04:00+09:00</th>\n",
       "      <td>069500</td>\n",
       "      <td>31306</td>\n",
       "      <td>31316</td>\n",
       "      <td>31291</td>\n",
       "      <td>31291</td>\n",
       "      <td>12010</td>\n",
       "      <td>114800</td>\n",
       "      <td>4930</td>\n",
       "      <td>4935</td>\n",
       "      <td>4925</td>\n",
       "      <td>4930</td>\n",
       "      <td>73503</td>\n",
       "      <td>NaN</td>\n",
       "    </tr>\n",
       "    <tr>\n",
       "      <th>...</th>\n",
       "      <td>...</td>\n",
       "      <td>...</td>\n",
       "      <td>...</td>\n",
       "      <td>...</td>\n",
       "      <td>...</td>\n",
       "      <td>...</td>\n",
       "      <td>...</td>\n",
       "      <td>...</td>\n",
       "      <td>...</td>\n",
       "      <td>...</td>\n",
       "      <td>...</td>\n",
       "      <td>...</td>\n",
       "      <td>...</td>\n",
       "    </tr>\n",
       "    <tr>\n",
       "      <th>2022-11-04 15:16:00+09:00</th>\n",
       "      <td>069500</td>\n",
       "      <td>30385</td>\n",
       "      <td>30395</td>\n",
       "      <td>30380</td>\n",
       "      <td>30395</td>\n",
       "      <td>11725</td>\n",
       "      <td>114800</td>\n",
       "      <td>5040</td>\n",
       "      <td>5045</td>\n",
       "      <td>5040</td>\n",
       "      <td>5040</td>\n",
       "      <td>23285</td>\n",
       "      <td>NaN</td>\n",
       "    </tr>\n",
       "    <tr>\n",
       "      <th>2022-11-04 15:17:00+09:00</th>\n",
       "      <td>069500</td>\n",
       "      <td>30385</td>\n",
       "      <td>30395</td>\n",
       "      <td>30385</td>\n",
       "      <td>30390</td>\n",
       "      <td>11170</td>\n",
       "      <td>114800</td>\n",
       "      <td>5040</td>\n",
       "      <td>5045</td>\n",
       "      <td>5040</td>\n",
       "      <td>5040</td>\n",
       "      <td>162970</td>\n",
       "      <td>NaN</td>\n",
       "    </tr>\n",
       "    <tr>\n",
       "      <th>2022-11-04 15:18:00+09:00</th>\n",
       "      <td>069500</td>\n",
       "      <td>30395</td>\n",
       "      <td>30400</td>\n",
       "      <td>30385</td>\n",
       "      <td>30385</td>\n",
       "      <td>9121</td>\n",
       "      <td>114800</td>\n",
       "      <td>5045</td>\n",
       "      <td>5045</td>\n",
       "      <td>5040</td>\n",
       "      <td>5045</td>\n",
       "      <td>110907</td>\n",
       "      <td>NaN</td>\n",
       "    </tr>\n",
       "    <tr>\n",
       "      <th>2022-11-04 15:19:00+09:00</th>\n",
       "      <td>069500</td>\n",
       "      <td>30385</td>\n",
       "      <td>30395</td>\n",
       "      <td>30385</td>\n",
       "      <td>30390</td>\n",
       "      <td>1994</td>\n",
       "      <td>114800</td>\n",
       "      <td>5045</td>\n",
       "      <td>5045</td>\n",
       "      <td>5040</td>\n",
       "      <td>5045</td>\n",
       "      <td>59722</td>\n",
       "      <td>NaN</td>\n",
       "    </tr>\n",
       "    <tr>\n",
       "      <th>2022-11-04 15:30:00+09:00</th>\n",
       "      <td>069500</td>\n",
       "      <td>30460</td>\n",
       "      <td>30460</td>\n",
       "      <td>30460</td>\n",
       "      <td>30460</td>\n",
       "      <td>42805</td>\n",
       "      <td>114800</td>\n",
       "      <td>5030</td>\n",
       "      <td>5030</td>\n",
       "      <td>5030</td>\n",
       "      <td>5030</td>\n",
       "      <td>1241765</td>\n",
       "      <td>NaN</td>\n",
       "    </tr>\n",
       "  </tbody>\n",
       "</table>\n",
       "<p>28191 rows × 13 columns</p>\n",
       "</div>"
      ],
      "text/plain": [
       "                          st_code_X  open_X  high_X  low_X  close_X  volume_X  \\\n",
       "dt                                                                              \n",
       "2022-07-19 09:00:00+09:00    069500   31386   31431  31341    31346    107702   \n",
       "2022-07-19 09:01:00+09:00    069500   31336   31346  31301    31301     18248   \n",
       "2022-07-19 09:02:00+09:00    069500   31301   31336  31296    31321      8322   \n",
       "2022-07-19 09:03:00+09:00    069500   31311   31326  31291    31306     17412   \n",
       "2022-07-19 09:04:00+09:00    069500   31306   31316  31291    31291     12010   \n",
       "...                             ...     ...     ...    ...      ...       ...   \n",
       "2022-11-04 15:16:00+09:00    069500   30385   30395  30380    30395     11725   \n",
       "2022-11-04 15:17:00+09:00    069500   30385   30395  30385    30390     11170   \n",
       "2022-11-04 15:18:00+09:00    069500   30395   30400  30385    30385      9121   \n",
       "2022-11-04 15:19:00+09:00    069500   30385   30395  30385    30390      1994   \n",
       "2022-11-04 15:30:00+09:00    069500   30460   30460  30460    30460     42805   \n",
       "\n",
       "                          st_code_Y  open_Y  high_Y  low_Y  close_Y  volume_Y  \\\n",
       "dt                                                                              \n",
       "2022-07-19 09:00:00+09:00    114800    4920    4930   4915     4925   1620381   \n",
       "2022-07-19 09:01:00+09:00    114800    4925    4935   4925     4935    866290   \n",
       "2022-07-19 09:02:00+09:00    114800    4935    4935   4925     4925    569745   \n",
       "2022-07-19 09:03:00+09:00    114800    4930    4935   4925     4930    140670   \n",
       "2022-07-19 09:04:00+09:00    114800    4930    4935   4925     4930     73503   \n",
       "...                             ...     ...     ...    ...      ...       ...   \n",
       "2022-11-04 15:16:00+09:00    114800    5040    5045   5040     5040     23285   \n",
       "2022-11-04 15:17:00+09:00    114800    5040    5045   5040     5040    162970   \n",
       "2022-11-04 15:18:00+09:00    114800    5045    5045   5040     5045    110907   \n",
       "2022-11-04 15:19:00+09:00    114800    5045    5045   5040     5045     59722   \n",
       "2022-11-04 15:30:00+09:00    114800    5030    5030   5030     5030   1241765   \n",
       "\n",
       "                          action  \n",
       "dt                                \n",
       "2022-07-19 09:00:00+09:00    NaN  \n",
       "2022-07-19 09:01:00+09:00    NaN  \n",
       "2022-07-19 09:02:00+09:00    NaN  \n",
       "2022-07-19 09:03:00+09:00    NaN  \n",
       "2022-07-19 09:04:00+09:00    NaN  \n",
       "...                          ...  \n",
       "2022-11-04 15:16:00+09:00    NaN  \n",
       "2022-11-04 15:17:00+09:00    NaN  \n",
       "2022-11-04 15:18:00+09:00    NaN  \n",
       "2022-11-04 15:19:00+09:00    NaN  \n",
       "2022-11-04 15:30:00+09:00    NaN  \n",
       "\n",
       "[28191 rows x 13 columns]"
      ]
     },
     "execution_count": 7,
     "metadata": {},
     "output_type": "execute_result"
    }
   ],
   "source": [
    "raw_merged_df = pd.merge(raw_merged_df, y_pred.rename('action'), left_index=True, right_index=True, how='left')\n",
    "raw_merged_df"
   ]
  },
  {
   "cell_type": "code",
   "execution_count": 8,
   "metadata": {},
   "outputs": [
    {
     "data": {
      "text/plain": [
       "X    9979\n",
       "Y    2970\n",
       "Name: action, dtype: int64"
      ]
     },
     "execution_count": 8,
     "metadata": {},
     "output_type": "execute_result"
    }
   ],
   "source": [
    "raw_merged_df.action.value_counts()"
   ]
  },
  {
   "cell_type": "markdown",
   "metadata": {},
   "source": [
    "# 백테스트 코딩"
   ]
  },
  {
   "cell_type": "markdown",
   "metadata": {},
   "source": [
    "시뮬레이션 파라미터\n",
    "\n",
    "- 거래수수로: 매수, 매도시 발생 0.015 % 키움 기준"
   ]
  },
  {
   "cell_type": "code",
   "execution_count": 9,
   "metadata": {},
   "outputs": [],
   "source": [
    "parser = argparse.ArgumentParser()\n",
    "parser.add_argument(\"-i\", \"--initial_asset\", type=float, help=\"초기애셋\", default=10000000)\n",
    "parser.add_argument(\"-c\", \"--commision_rate\", type=float, help=\"거래수수료\", default=0.015*0.01)\n",
    "parser.add_argument(\"-s\", \"--slippage_rate\", type=float, help=\"슬리피지\", default=0.00)\n",
    "parser.add_argument(\"-f\", \"--from_dt\", type=str, help=\"시작 타임스탬프\", default='2022-08-01 09:00:00')\n",
    "parser.add_argument(\"-e\", \"--end_dt\", type=str, help=\"종료 타임스탬프\", default='2022-09-29 15:30:00')\n",
    "args = parser.parse_args(args=[])\n"
   ]
  },
  {
   "cell_type": "code",
   "execution_count": 10,
   "metadata": {},
   "outputs": [],
   "source": [
    "class FundSimParams:\n",
    "  \"\"\"\n",
    "  펀드시뮬레이터 파라미터 설정\n",
    "  \"\"\"\n",
    "  def __init__(self, initial_asset, commision_rate, slippage_rate, from_dt, end_dt):\n",
    "    self.action_dic = {'X': '069500', 'Y': '114800'} # TODO : config.xml에서 가져오기\n",
    "    self.initial_asset = initial_asset\n",
    "    self.commision_rate = commision_rate\n",
    "    self.slippage_rate = slippage_rate\n",
    "    self.from_dt = TimeManager.str_to_ts(from_dt, '%Y-%m-%d %H:%M:%S')\n",
    "    self.end_dt = TimeManager.str_to_ts(end_dt, '%Y-%m-%d %H:%M:%S')\n",
    " \n",
    "  @staticmethod\n",
    "  def tradable_time(dt:pd.Timestamp):\n",
    "    return dt < TimeManager.ts_floor_time(dt, freq='D') + pd.Timedelta('15:20:00')\n",
    "\n",
    "  def __repr__(self) -> str:\n",
    "    return f'initial_asset: {self.initial_asset}, commision_rate: {self.commision_rate}, slippage_rate: {self.slippage_rate}, from_dt: {self.from_dt}, end_dt: {self.end_dt}'\n",
    "\n",
    "  def __str__(self) -> str:\n",
    "    return f'initial_asset: {self.initial_asset}, commision_rate: {self.commision_rate}, slippage_rate: {self.slippage_rate}, from_dt: {self.from_dt}, end_dt: {self.end_dt}'"
   ]
  },
  {
   "cell_type": "code",
   "execution_count": 11,
   "metadata": {},
   "outputs": [],
   "source": [
    "class TradeStock:\n",
    "  \"\"\"\n",
    "  트레이드 정보 저장\n",
    "  \"\"\"\n",
    "\n",
    "  @staticmethod\n",
    "  def calc_floored_price(price, slippage_rate=0.0, is_ETF=True, is_sell=False):\n",
    "    \"\"\"\n",
    "    ETF의 경우는 5원 단위\n",
    "\n",
    "    일반 주식의 경우\n",
    "    그이상: 1000원\n",
    "    ~500,000: 500원\n",
    "    ~100,000: 100원\n",
    "    ~50,000: 50원\n",
    "    ~10,000: 10원\n",
    "    ~5,000: 5원\n",
    "    ~1000: 1원\n",
    "    \"\"\"\n",
    "    if is_sell: # 매도 (슬리피지 만큼 싸게 팔게 됨)\n",
    "      price = price * (1 - slippage_rate)\n",
    "    else: # 매수 (슬리피지 만큼 비싸게 사게 됨)\n",
    "      price = price * (1 + slippage_rate)\n",
    "\n",
    "\n",
    "    int_price = int(price)\n",
    "    if is_ETF:\n",
    "      return (int_price // 5) * 5\n",
    "\n",
    "    if int_price > 500000:\n",
    "        return (int_price // 1000) * 1000\n",
    "    elif int_price > 100000:\n",
    "        return (int_price // 500) * 500\n",
    "    elif int_price > 50000:\n",
    "        return (int_price // 100) * 100\n",
    "    elif int_price > 10000:\n",
    "        return (int_price // 50) * 50\n",
    "    elif int_price > 5000:\n",
    "        return (int_price // 10) * 10\n",
    "    elif int_price > 1000:\n",
    "        return (int_price // 5) * 5\n",
    "    return int_price\n",
    "\n",
    "\n",
    "  def __init__(self, suffix='X'):\n",
    "    self.suffix = suffix\n",
    "    self.code = None\n",
    "    self.quantity = 0\n",
    "    self.buy_dt = None\n",
    "    self.buy_price = None\n",
    "    self.buy_step_i = None\n",
    "    self.cur_step_i = None\n",
    "    self.cur_dt = None\n",
    "    self.cur_price = None\n",
    "    self.sell_dt = None\n",
    "    self.sell_price = None\n",
    "    self.sell_step_i = None\n",
    "    self.buy_transaction_cost = 0\n",
    "    self.sell_transaction_cost = 0\n",
    "\n",
    "  def __suffixed(self, what='close'):\n",
    "    return f'{what}_{self.suffix}'\n",
    "\n",
    "  def buy(self, df:pd.DataFrame, i:int, available_cash:float, funsim_params:FundSimParams):\n",
    "    \"\"\"\n",
    "    매수\n",
    "    리턴: 매수를 통해 줄어든 현금 전체\n",
    "    \"\"\"\n",
    "    price = df.iloc[i][self.__suffixed('close')]\n",
    "    floored_price = TradeStock.calc_floored_price(price, funsim_params.slippage_rate)\n",
    "    quantity = int(available_cash // floored_price)\n",
    "\n",
    "    # 매수금액 + 수수료가 예수금을 넘으면 안됨\n",
    "    if quantity*floored_price* (1+ funsim_params.commision_rate) > available_cash:\n",
    "      quantity -= 1\n",
    "\n",
    "    # print(f\"{df.iloc[i][self.__suffixed('close')]} -> {price=}, {floored_price=}, {quantity=}\")\n",
    "    self.buy_step_i = i\n",
    "    self.buy_dt = df.iloc[i].name\n",
    "    self.buy_price = floored_price\n",
    "    self.quantity = quantity\n",
    "    self.code = df.iloc[i][self.__suffixed('st_code')]\n",
    "    self.buy_transaction_cost = int(quantity * floored_price * funsim_params.commision_rate)\n",
    "    return int(quantity * floored_price + self.buy_transaction_cost)\n",
    "\n",
    "  def apply_step(self, df:pd.DataFrame, i:int):\n",
    "    self.cur_step_i = i\n",
    "    self.cur_dt = df.iloc[i].name\n",
    "    self.current_price = df.iloc[i][self.__suffixed('close')]\n",
    "\n",
    "  def sell(self, df:pd.DataFrame, i:int, funsim_params:FundSimParams):\n",
    "    \"\"\"\n",
    "    매도\n",
    "    리턴: 매도를 통해 증가한 현금 전체\n",
    "    \"\"\"\n",
    "    price = df.iloc[i][self.__suffixed('close')]\n",
    "    floored_price = TradeStock.calc_floored_price(price, funsim_params.slippage_rate, is_sell=True)\n",
    "    self.sell_step_i = i\n",
    "    self.sell_dt = df.iloc[i].name\n",
    "    self.sell_price = floored_price\n",
    "    self.sell_transaction_cost = int(self.quantity * floored_price * funsim_params.commision_rate)\n",
    "    return int(self.quantity * floored_price - self.sell_transaction_cost)\n",
    "\n",
    "  def calc_cur_status(self):\n",
    "    return {\n",
    "      'suffix':self.suffix,\n",
    "      'buy_dt':self.buy_dt,\n",
    "      'cur_dt':self.cur_dt,\n",
    "      'code': self.code,\n",
    "      'buy_eval': self.buy_price * self.quantity,\n",
    "      'cur_eval': self.current_price * self.quantity,\n",
    "      'buy_tc': self.buy_transaction_cost,\n",
    "    }\n",
    "\n",
    "  def calc_result_status(self):\n",
    "    return {\n",
    "      'suffix':self.suffix,\n",
    "      'buy_dt':self.buy_dt,\n",
    "      'sell_dt':self.sell_dt,\n",
    "      'code': self.code,\n",
    "      'buy_eval': self.buy_price * self.quantity,\n",
    "      'sell_eval': self.sell_price * self.quantity,\n",
    "      'buy_tc': self.buy_transaction_cost,\n",
    "      'sell_tc': self.sell_transaction_cost,\n",
    "    }\n",
    "\n",
    "  def __repr__(self):\n",
    "    return str(self.calc_cur_status())\n",
    "\n",
    "  def __str__(self):\n",
    "    return str(self.calc_cur_status())\n",
    "\n",
    "\n"
   ]
  },
  {
   "cell_type": "code",
   "execution_count": 19,
   "metadata": {},
   "outputs": [],
   "source": [
    "class FundSimulator:\n",
    "  \"\"\"\n",
    "  펀드시뮬레이터\n",
    "  \"\"\"\n",
    "  def __init__(self, fund_sim_params, raw_merged_df):\n",
    "    self.fund_sim_params = fund_sim_params\n",
    "    self.raw_merged_df = raw_merged_df\n",
    "    self.available_cash = fund_sim_params.initial_asset\n",
    "    self.is_holding = False\n",
    "    self.trade_stock = None\n",
    "    self.history_trade_stocks = []\n",
    "    self.i = -1\n",
    "\n",
    "    self.__pre_wind_up()\n",
    "\n",
    "  def __pre_wind_up(self):\n",
    "    \"\"\"\n",
    "    from_dt까지 i를 움직임\n",
    "    \"\"\"\n",
    "    self.i = 0\n",
    "    while self.raw_merged_df.index[self.i] < self.fund_sim_params.from_dt:\n",
    "      self.i += 1\n",
    "\n",
    "  def is_end(self):\n",
    "    return self.raw_merged_df.iloc[self.i].name >= self.fund_sim_params.end_dt #or np.isnan(self.raw_merged_df.iloc[self.i].action)\n",
    "    \n",
    "  def step(self):\n",
    "    \"\"\"\n",
    "    한 스텝 진행\n",
    "    \"\"\"\n",
    "    self.i += 1\n",
    "    data = self.raw_merged_df.iloc[self.i]\n",
    "    if pd.isna(data.action):\n",
    "      return\n",
    "    # print(self.__trade_stock)\n",
    "    if self.is_holding:\n",
    "      self.trade_stock.apply_step(self.raw_merged_df, self.i)\n",
    "      if not FundSimParams.tradable_time(self.raw_merged_df.iloc[self.i].name) or data.action == 'NOP' or data.action == self.trade_stock.suffix:\n",
    "        return\n",
    "      else: # 종목체인지\n",
    "        in_cash = self.trade_stock.sell(self.raw_merged_df, self.i, self.fund_sim_params)\n",
    "        self.history_trade_stocks.append((self.available_cash, in_cash, self.trade_stock.calc_result_status()))\n",
    "        # print(self.__trade_stock.calc_result_status())\n",
    "        self.available_cash += in_cash\n",
    "        self.is_holding = False\n",
    "        self.trade_stock=None\n",
    "\n",
    "    if not self.is_holding:\n",
    "      if data.action != 'NOP':\n",
    "        self.is_holding = True\n",
    "        self.trade_stock = TradeStock(data.action)\n",
    "        self.trade_stock.apply_step(self.raw_merged_df, self.i)\n",
    "        out_cash = self.trade_stock.buy(self.raw_merged_df, self.i, self.available_cash, self.fund_sim_params)\n",
    "        self.available_cash -= out_cash\n",
    "\n",
    "  def run(self):\n",
    "    if not self.is_end():\n",
    "      while True:\n",
    "        self.step()\n",
    "        if self.is_end():\n",
    "          break\n",
    "\n",
    "  def make_summary(self):\n",
    "    simulation_summary = pd.DataFrame.from_records(map(lambda x: {\n",
    "      'fund':x[0]+x[1], \n",
    "      'code':x[2]['code'], \n",
    "      'buy_dt':x[2]['buy_dt'], \n",
    "      'sell_dt':x[2]['sell_dt'],\n",
    "      'buy_tc':x[2]['buy_tc'],\n",
    "      'sell_tc':x[2]['sell_tc'],\n",
    "      'buy_eval':x[2]['buy_eval'],\n",
    "      'sell_eval':x[2]['sell_eval'],\n",
    "      }, self.history_trade_stocks))\n",
    "    simulation_summary.eval(\"pr = (sell_eval - sell_tc) / (buy_eval + buy_tc) - 1.0\", inplace=True)\n",
    "    simulation_summary['MDD'] = (1 - simulation_summary.fund / simulation_summary.fund.cummax())    \n",
    "    return simulation_summary\n",
    "\n"
   ]
  },
  {
   "cell_type": "code",
   "execution_count": 22,
   "metadata": {},
   "outputs": [],
   "source": [
    "fund_sim_params = FundSimParams(args.initial_asset, args.commision_rate, args.slippage_rate, args.from_dt, args.end_dt)\n",
    "fund_simulator = FundSimulator(fund_sim_params, raw_merged_df)"
   ]
  },
  {
   "cell_type": "markdown",
   "metadata": {},
   "source": [
    "시뮬레이션"
   ]
  },
  {
   "cell_type": "code",
   "execution_count": 23,
   "metadata": {},
   "outputs": [],
   "source": [
    "fund_simulator.run()"
   ]
  },
  {
   "cell_type": "markdown",
   "metadata": {},
   "source": [
    "요약 데이터프레임 생성"
   ]
  },
  {
   "cell_type": "code",
   "execution_count": 24,
   "metadata": {},
   "outputs": [],
   "source": [
    "simulation_summary = fund_simulator.make_summary()"
   ]
  },
  {
   "cell_type": "code",
   "execution_count": 25,
   "metadata": {},
   "outputs": [
    {
     "data": {
      "text/html": [
       "<div>\n",
       "<style scoped>\n",
       "    .dataframe tbody tr th:only-of-type {\n",
       "        vertical-align: middle;\n",
       "    }\n",
       "\n",
       "    .dataframe tbody tr th {\n",
       "        vertical-align: top;\n",
       "    }\n",
       "\n",
       "    .dataframe thead th {\n",
       "        text-align: right;\n",
       "    }\n",
       "</style>\n",
       "<table border=\"1\" class=\"dataframe\">\n",
       "  <thead>\n",
       "    <tr style=\"text-align: right;\">\n",
       "      <th></th>\n",
       "      <th>fund</th>\n",
       "      <th>code</th>\n",
       "      <th>buy_dt</th>\n",
       "      <th>sell_dt</th>\n",
       "      <th>buy_tc</th>\n",
       "      <th>sell_tc</th>\n",
       "      <th>buy_eval</th>\n",
       "      <th>sell_eval</th>\n",
       "      <th>pr</th>\n",
       "      <th>MDD</th>\n",
       "    </tr>\n",
       "  </thead>\n",
       "  <tbody>\n",
       "    <tr>\n",
       "      <th>0</th>\n",
       "      <td>9981610</td>\n",
       "      <td>069500</td>\n",
       "      <td>2022-08-01 09:43:00+09:00</td>\n",
       "      <td>2022-08-01 09:59:00+09:00</td>\n",
       "      <td>1496</td>\n",
       "      <td>1494</td>\n",
       "      <td>9976120</td>\n",
       "      <td>9960720</td>\n",
       "      <td>-0.001843</td>\n",
       "      <td>0.000000</td>\n",
       "    </tr>\n",
       "    <tr>\n",
       "      <th>1</th>\n",
       "      <td>9978618</td>\n",
       "      <td>114800</td>\n",
       "      <td>2022-08-01 09:59:00+09:00</td>\n",
       "      <td>2022-08-01 10:01:00+09:00</td>\n",
       "      <td>1496</td>\n",
       "      <td>1496</td>\n",
       "      <td>9975860</td>\n",
       "      <td>9975860</td>\n",
       "      <td>-0.000300</td>\n",
       "      <td>0.000300</td>\n",
       "    </tr>\n",
       "    <tr>\n",
       "      <th>2</th>\n",
       "      <td>9972554</td>\n",
       "      <td>069500</td>\n",
       "      <td>2022-08-01 10:01:00+09:00</td>\n",
       "      <td>2022-08-01 10:02:00+09:00</td>\n",
       "      <td>1492</td>\n",
       "      <td>1492</td>\n",
       "      <td>9951480</td>\n",
       "      <td>9948400</td>\n",
       "      <td>-0.000609</td>\n",
       "      <td>0.000907</td>\n",
       "    </tr>\n",
       "    <tr>\n",
       "      <th>3</th>\n",
       "      <td>9969564</td>\n",
       "      <td>114800</td>\n",
       "      <td>2022-08-01 10:02:00+09:00</td>\n",
       "      <td>2022-08-01 10:03:00+09:00</td>\n",
       "      <td>1495</td>\n",
       "      <td>1495</td>\n",
       "      <td>9967155</td>\n",
       "      <td>9967155</td>\n",
       "      <td>-0.000300</td>\n",
       "      <td>0.001207</td>\n",
       "    </tr>\n",
       "    <tr>\n",
       "      <th>4</th>\n",
       "      <td>9966580</td>\n",
       "      <td>069500</td>\n",
       "      <td>2022-08-01 10:03:00+09:00</td>\n",
       "      <td>2022-08-01 10:08:00+09:00</td>\n",
       "      <td>1492</td>\n",
       "      <td>1492</td>\n",
       "      <td>9949940</td>\n",
       "      <td>9949940</td>\n",
       "      <td>-0.000300</td>\n",
       "      <td>0.001506</td>\n",
       "    </tr>\n",
       "    <tr>\n",
       "      <th>...</th>\n",
       "      <td>...</td>\n",
       "      <td>...</td>\n",
       "      <td>...</td>\n",
       "      <td>...</td>\n",
       "      <td>...</td>\n",
       "      <td>...</td>\n",
       "      <td>...</td>\n",
       "      <td>...</td>\n",
       "      <td>...</td>\n",
       "      <td>...</td>\n",
       "    </tr>\n",
       "    <tr>\n",
       "      <th>3451</th>\n",
       "      <td>3271953</td>\n",
       "      <td>114800</td>\n",
       "      <td>2022-09-29 14:25:00+09:00</td>\n",
       "      <td>2022-09-29 14:27:00+09:00</td>\n",
       "      <td>490</td>\n",
       "      <td>490</td>\n",
       "      <td>3267285</td>\n",
       "      <td>3267285</td>\n",
       "      <td>-0.000300</td>\n",
       "      <td>0.672202</td>\n",
       "    </tr>\n",
       "    <tr>\n",
       "      <th>3452</th>\n",
       "      <td>3262994</td>\n",
       "      <td>069500</td>\n",
       "      <td>2022-09-29 14:27:00+09:00</td>\n",
       "      <td>2022-09-29 14:40:00+09:00</td>\n",
       "      <td>490</td>\n",
       "      <td>489</td>\n",
       "      <td>3271230</td>\n",
       "      <td>3263250</td>\n",
       "      <td>-0.002738</td>\n",
       "      <td>0.673099</td>\n",
       "    </tr>\n",
       "    <tr>\n",
       "      <th>3453</th>\n",
       "      <td>3258987</td>\n",
       "      <td>114800</td>\n",
       "      <td>2022-09-29 14:40:00+09:00</td>\n",
       "      <td>2022-09-29 14:41:00+09:00</td>\n",
       "      <td>489</td>\n",
       "      <td>488</td>\n",
       "      <td>3260280</td>\n",
       "      <td>3257250</td>\n",
       "      <td>-0.001229</td>\n",
       "      <td>0.673501</td>\n",
       "    </tr>\n",
       "    <tr>\n",
       "      <th>3454</th>\n",
       "      <td>3256888</td>\n",
       "      <td>069500</td>\n",
       "      <td>2022-09-29 14:41:00+09:00</td>\n",
       "      <td>2022-09-29 14:42:00+09:00</td>\n",
       "      <td>485</td>\n",
       "      <td>484</td>\n",
       "      <td>3233495</td>\n",
       "      <td>3232365</td>\n",
       "      <td>-0.000649</td>\n",
       "      <td>0.673711</td>\n",
       "    </tr>\n",
       "    <tr>\n",
       "      <th>3455</th>\n",
       "      <td>3261961</td>\n",
       "      <td>114800</td>\n",
       "      <td>2022-09-29 14:42:00+09:00</td>\n",
       "      <td>2022-09-29 14:44:00+09:00</td>\n",
       "      <td>488</td>\n",
       "      <td>489</td>\n",
       "      <td>3254900</td>\n",
       "      <td>3260950</td>\n",
       "      <td>0.001558</td>\n",
       "      <td>0.673203</td>\n",
       "    </tr>\n",
       "  </tbody>\n",
       "</table>\n",
       "<p>3456 rows × 10 columns</p>\n",
       "</div>"
      ],
      "text/plain": [
       "         fund    code                    buy_dt                   sell_dt  \\\n",
       "0     9981610  069500 2022-08-01 09:43:00+09:00 2022-08-01 09:59:00+09:00   \n",
       "1     9978618  114800 2022-08-01 09:59:00+09:00 2022-08-01 10:01:00+09:00   \n",
       "2     9972554  069500 2022-08-01 10:01:00+09:00 2022-08-01 10:02:00+09:00   \n",
       "3     9969564  114800 2022-08-01 10:02:00+09:00 2022-08-01 10:03:00+09:00   \n",
       "4     9966580  069500 2022-08-01 10:03:00+09:00 2022-08-01 10:08:00+09:00   \n",
       "...       ...     ...                       ...                       ...   \n",
       "3451  3271953  114800 2022-09-29 14:25:00+09:00 2022-09-29 14:27:00+09:00   \n",
       "3452  3262994  069500 2022-09-29 14:27:00+09:00 2022-09-29 14:40:00+09:00   \n",
       "3453  3258987  114800 2022-09-29 14:40:00+09:00 2022-09-29 14:41:00+09:00   \n",
       "3454  3256888  069500 2022-09-29 14:41:00+09:00 2022-09-29 14:42:00+09:00   \n",
       "3455  3261961  114800 2022-09-29 14:42:00+09:00 2022-09-29 14:44:00+09:00   \n",
       "\n",
       "      buy_tc  sell_tc  buy_eval  sell_eval        pr       MDD  \n",
       "0       1496     1494   9976120    9960720 -0.001843  0.000000  \n",
       "1       1496     1496   9975860    9975860 -0.000300  0.000300  \n",
       "2       1492     1492   9951480    9948400 -0.000609  0.000907  \n",
       "3       1495     1495   9967155    9967155 -0.000300  0.001207  \n",
       "4       1492     1492   9949940    9949940 -0.000300  0.001506  \n",
       "...      ...      ...       ...        ...       ...       ...  \n",
       "3451     490      490   3267285    3267285 -0.000300  0.672202  \n",
       "3452     490      489   3271230    3263250 -0.002738  0.673099  \n",
       "3453     489      488   3260280    3257250 -0.001229  0.673501  \n",
       "3454     485      484   3233495    3232365 -0.000649  0.673711  \n",
       "3455     488      489   3254900    3260950  0.001558  0.673203  \n",
       "\n",
       "[3456 rows x 10 columns]"
      ]
     },
     "execution_count": 25,
     "metadata": {},
     "output_type": "execute_result"
    }
   ],
   "source": [
    "simulation_summary"
   ]
  },
  {
   "cell_type": "markdown",
   "metadata": {},
   "source": [
    "# 결과 분석"
   ]
  },
  {
   "cell_type": "markdown",
   "metadata": {},
   "source": [
    "fund 추이"
   ]
  },
  {
   "cell_type": "code",
   "execution_count": 26,
   "metadata": {},
   "outputs": [
    {
     "data": {
      "text/plain": [
       "<AxesSubplot: xlabel='sell_dt'>"
      ]
     },
     "execution_count": 26,
     "metadata": {},
     "output_type": "execute_result"
    },
    {
     "data": {
      "image/png": "[encoded data removed]",
      "text/plain": [
       "<Figure size 640x480 with 1 Axes>"
      ]
     },
     "metadata": {},
     "output_type": "display_data"
    }
   ],
   "source": [
    "simulation_summary.plot(x='sell_dt', y='fund')"
   ]
  },
  {
   "cell_type": "markdown",
   "metadata": {},
   "source": [
    "PR 퀀타일"
   ]
  },
  {
   "cell_type": "code",
   "execution_count": 27,
   "metadata": {},
   "outputs": [
    {
     "data": {
      "text/plain": [
       "0.25   -0.000464\n",
       "0.50   -0.000300\n",
       "0.75    0.000005\n",
       "Name: pr, dtype: float64"
      ]
     },
     "execution_count": 27,
     "metadata": {},
     "output_type": "execute_result"
    }
   ],
   "source": [
    "simulation_summary.pr.quantile([0.25, 0.5, 0.75])"
   ]
  },
  {
   "cell_type": "markdown",
   "metadata": {},
   "source": [
    "MDD"
   ]
  },
  {
   "cell_type": "code",
   "execution_count": 28,
   "metadata": {},
   "outputs": [],
   "source": [
    "zz = simulation_summary.set_index('sell_dt')\n",
    "\n",
    "daily_stats = pd.concat((zz.resample('D').buy_eval.first().rename('from'),\n",
    "            zz.resample('D').sell_eval.last().rename('to'),\n",
    "            zz.query(\"code=='069500'\").resample('D').code.count().rename('cnt_x'),\n",
    "            zz.query(\"code!='069500'\").resample('D').code.count().rename('cnt_y'),\n",
    "            zz.query(\"code=='069500'\").resample('D').pr.mean().rename('avg_pr_x'),\n",
    "            zz.query(\"code!='069500'\").resample('D').pr.mean().rename('avg_pr_y'),\n",
    "            ), axis=1).dropna()"
   ]
  },
  {
   "cell_type": "code",
   "execution_count": 29,
   "metadata": {},
   "outputs": [
    {
     "data": {
      "text/plain": [
       "<AxesSubplot: xlabel='sell_dt'>"
      ]
     },
     "execution_count": 29,
     "metadata": {},
     "output_type": "execute_result"
    },
    {
     "data": {
      "image/png": "[encoded data removed]",
      "text/plain": [
       "<Figure size 640x480 with 1 Axes>"
      ]
     },
     "metadata": {},
     "output_type": "display_data"
    }
   ],
   "source": [
    "simulation_summary.plot(x='sell_dt', y='MDD')"
   ]
  },
  {
   "cell_type": "markdown",
   "metadata": {},
   "source": [
    "일별 서머리\n",
    "\n",
    "  - 일별 최초 매수 (from), 최종 매도 (to) 를 찍은 것임"
   ]
  },
  {
   "cell_type": "code",
   "execution_count": null,
   "metadata": {},
   "outputs": [],
   "source": [
    "daily_stats[['from', 'to']].plot(style='.-')"
   ]
  },
  {
   "cell_type": "markdown",
   "metadata": {},
   "source": [
    "일별 서머리\n",
    "- 일별 x 투자건, y 투자건의 수가 큰 차이 없음"
   ]
  },
  {
   "cell_type": "code",
   "execution_count": null,
   "metadata": {},
   "outputs": [],
   "source": [
    "daily_stats[['cnt_x', 'cnt_y']].plot(style='.-')"
   ]
  },
  {
   "cell_type": "code",
   "execution_count": null,
   "metadata": {},
   "outputs": [],
   "source": [
    "daily_stats[['avg_pr_x', 'avg_pr_y']].plot(style='.-')"
   ]
  },
  {
   "cell_type": "markdown",
   "metadata": {},
   "source": [
    "# 결론\n",
    "\n",
    "베이스라인 모델 펀드\n",
    "- 수익률: 2.13%\n",
    "  - 거래횟수: 79회\n",
    "  - 이익거래:손실거래=42:58\n",
    "  - 수수료 총합: 241,210원 \n",
    "- MDD 3.7% \n",
    "- 썩 유용하지 않음\n",
    "- 이익거래 여부 별 거래횟수\n",
    "\n",
    "|    이익거래 |   code | cnt |\n",
    "|------:|-------:|-----|\n",
    "| False | 069500 |  23 |\n",
    "| False | 114800 |  23 |\n",
    "|  True | 069500 |  16 |\n",
    "|  True | 114800 |  17 |\n",
    "\n",
    "- 이익거래 여부 별 수익률\n",
    "  \n",
    "|    이익거래 |   code |    avg_pr |\n",
    "|------:|-------:|----------:|\n",
    "| False | 069500 | -0.003872 |\n",
    "| False | 114800 | -0.002947 |\n",
    "|  True | 069500 |  0.002313 |\n",
    "|  True | 114800 |  0.008423 |\n",
    "  \n",
    "방향\n",
    "- 피쳐 추가 및 엔지니어링\n",
    "- 수익률 히스토리를 피쳐에 반영\n",
    "- 강화 학습등 학습 방법의 변형"
   ]
  },
  {
   "cell_type": "code",
   "execution_count": null,
   "metadata": {},
   "outputs": [],
   "source": [
    "simulation_summary.iloc[-1].fund / fund_sim_params.initial_asset - 1"
   ]
  },
  {
   "cell_type": "code",
   "execution_count": null,
   "metadata": {},
   "outputs": [],
   "source": [
    "simulation_summary.eval('buy_tc+sell_tc').sum()"
   ]
  },
  {
   "cell_type": "code",
   "execution_count": null,
   "metadata": {},
   "outputs": [],
   "source": [
    "simulation_summary.MDD.max()"
   ]
  },
  {
   "cell_type": "code",
   "execution_count": null,
   "metadata": {},
   "outputs": [],
   "source": [
    "simulation_summary.eval(\"pr < 0\").sum() / len(simulation_summary)"
   ]
  },
  {
   "cell_type": "code",
   "execution_count": null,
   "metadata": {},
   "outputs": [],
   "source": [
    "simulation_summary.groupby([simulation_summary.pr>0, simulation_summary.code]).fund.count().rename('cnt').reset_index()"
   ]
  },
  {
   "cell_type": "code",
   "execution_count": null,
   "metadata": {},
   "outputs": [],
   "source": [
    "simulation_summary.groupby([simulation_summary.pr>0, simulation_summary.code]).pr.mean().rename('avg_pr').reset_index()"
   ]
  }
 ],
 "metadata": {
  "kernelspec": {
   "display_name": "Python 3.8.13 ('AIFT64')",
   "language": "python",
   "name": "python3"
  },
  "language_info": {
   "codemirror_mode": {
    "name": "ipython",
    "version": 3
   },
   "file_extension": ".py",
   "mimetype": "text/x-python",
   "name": "python",
   "nbconvert_exporter": "python",
   "pygments_lexer": "ipython3",
   "version": "3.8.13"
  },
  "orig_nbformat": 4,
  "vscode": {
   "interpreter": {
    "hash": "8f2e7214e2fa744f58ece3712087e8bfa1cb30f09e0f590b08c16aec3d891a12"
   }
  }
 },
 "nbformat": 4,
 "nbformat_minor": 2
}

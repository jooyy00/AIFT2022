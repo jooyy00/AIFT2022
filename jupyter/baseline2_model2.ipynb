{
 "cells": [
  {
   "cell_type": "markdown",
   "metadata": {},
   "source": [
    "# 베이스라인 모델2"
   ]
  },
  {
   "cell_type": "code",
   "execution_count": 1,
   "metadata": {},
   "outputs": [],
   "source": [
    "import xml.etree.ElementTree as elemTree\n",
    "import os\n",
    "import sys\n",
    "tree = elemTree.parse(r'../config/.config.xml')\n",
    "root = tree.getroot()\n",
    "xx = root.find('./PATHS')\n",
    "work_path = xx.find('work').text\n",
    "sys.path.append(work_path)"
   ]
  },
  {
   "cell_type": "code",
   "execution_count": 2,
   "metadata": {},
   "outputs": [],
   "source": [
    "import numpy\n",
    "import talib\n",
    "from miscs.config_manager import ConfigManager\n",
    "import pandas as pd\n",
    "from sqlalchemy import create_engine\n",
    "from tqdm.auto import tqdm\n",
    "from realtime_kiwoom.data_provider import *\n",
    "import re\n",
    "import numpy as np\n",
    "import plotly.express as px"
   ]
  },
  {
   "cell_type": "code",
   "execution_count": 3,
   "metadata": {},
   "outputs": [],
   "source": [
    "cm = ConfigManager('../config/.config.xml')"
   ]
  },
  {
   "cell_type": "markdown",
   "metadata": {},
   "source": [
    "# 데이터 로딩"
   ]
  },
  {
   "cell_type": "code",
   "execution_count": 4,
   "metadata": {},
   "outputs": [],
   "source": [
    "history_provider = MinuteChartDataProvider.Factory(cm, tag='history')"
   ]
  },
  {
   "cell_type": "code",
   "execution_count": 5,
   "metadata": {},
   "outputs": [
    {
     "name": "stdout",
     "output_type": "stream",
     "text": [
      "CPU times: total: 34.2 s\n",
      "Wall time: 34.5 s\n"
     ]
    }
   ],
   "source": [
    "%%time\n",
    "history_minute_dic = history_provider.get_history_from_ndays_ago(n_days=365)"
   ]
  },
  {
   "cell_type": "markdown",
   "metadata": {},
   "source": [
    "# 기술적 지표"
   ]
  },
  {
   "cell_type": "markdown",
   "metadata": {},
   "source": [
    "MACD\n",
    "- macd: 범위제한 없음\n",
    "- macdsignal: 범위제한 없음\n",
    "- macdhist: 범위제한 없음\n",
    "\n",
    "RSI\n",
    "- rsi: 범위제한 있음\n",
    "\n",
    "AD Line\n",
    "- ad: 범위 제한 없음\n"
   ]
  },
  {
   "cell_type": "markdown",
   "metadata": {},
   "source": [
    "offset_intra_day\n",
    "- 9시부터 15시30분사이에 오프셋이 차지하는 위치를 [0, 1] 사이의 값으로 표현"
   ]
  },
  {
   "cell_type": "code",
   "execution_count": 6,
   "metadata": {},
   "outputs": [],
   "source": [
    "def make_basic_features(df: pd.DataFrame):\n",
    "  \"\"\"\n",
    "  df가 변형됨\n",
    "  \"\"\"\n",
    "  ma = talib.MA(df['close'], timeperiod=30)\n",
    "  macd, macdsignal, macdhist = talib.MACD(df['close'])\n",
    "  rsi = talib.RSI(df['close'], timeperiod=14)\n",
    "  ad = talib.AD(df['high'], df['low'], df['close'], df['volume'])\n",
    "\n",
    "  df['ma'] = ma\n",
    "  df['macd'] = macd\n",
    "  df['macdsignal'] = macdsignal\n",
    "  df['macdhist'] = macdhist\n",
    "  df['rsi'] = rsi\n",
    "  df['ad'] = ad\n",
    "\n",
    "  df['offset_intra_day'] = ((df.index - df.index.floor('D') - pd.Timedelta('9h')).total_seconds()/(60*60*6.5)).values\n"
   ]
  },
  {
   "cell_type": "markdown",
   "metadata": {},
   "source": [
    "윈도우 피쳐\n",
    "- 각 컬럼 지표의 현재값 - 직전 이동 평균값을 정규화"
   ]
  },
  {
   "cell_type": "code",
   "execution_count": 7,
   "metadata": {},
   "outputs": [],
   "source": [
    "def make_window_features(df: pd.DataFrame, cols=['ma', 'macd', 'macdsignal', 'macdhist', 'rsi', 'ad'], window_size=10):\n",
    "  \"\"\"\n",
    "  df가 변형됨: 과거 윈도우 동안의 평균값대비 현재 값의 차이를 계산\n",
    "  \"\"\"\n",
    "  for col in cols:\n",
    "    prev_summary = df[col].rolling(window=window_size).mean().shift(1)\n",
    "    df[f'{col}_w'] = (df[col] - prev_summary)"
   ]
  },
  {
   "cell_type": "markdown",
   "metadata": {},
   "source": [
    "장 종료 / 장 시작 분에 해당하는지 \n",
    "- 바이너리 피쳐"
   ]
  },
  {
   "cell_type": "code",
   "execution_count": 8,
   "metadata": {},
   "outputs": [],
   "source": [
    "def make_binary_dt_features(df: pd.DataFrame):\n",
    "  \"\"\"\n",
    "  df가 변형됨\n",
    "  \"\"\"\n",
    "  ss = df.reset_index()\n",
    "  df['ts_end'] = ss.dt.shift(-1).apply(lambda x: x.hour == 9 and x.minute == 0).values\n",
    "  df['ts_start'] = ss.dt.apply(lambda x: x.hour == 9 and x.minute == 0).values"
   ]
  },
  {
   "cell_type": "markdown",
   "metadata": {},
   "source": [
    "어제 종가 보다 오른 상태로 현재가가 형성되어 있는지\n",
    "- 바이너리 피쳐"
   ]
  },
  {
   "cell_type": "code",
   "execution_count": 9,
   "metadata": {},
   "outputs": [],
   "source": [
    "def make_binary_close_indicators(df: pd.DataFrame, daily_prev_close_map):\n",
    "  \"\"\"\n",
    "  df가 변형됨\n",
    "  \"\"\"\n",
    "\n",
    "  if daily_prev_close_map is None:\n",
    "    daily_prev_close_map = df.groupby(df.index.strftime('%Y-%m-%d')).close.last().shift(1)\n",
    "  xx = pd.Series(df.index.strftime('%Y-%m-%d').map(daily_prev_close_map).values, index=df.index)\n",
    "  df['is_higher'] = xx < df.close\n",
    "  df.loc[xx.isna(), 'is_higher']=np.nan"
   ]
  },
  {
   "cell_type": "code",
   "execution_count": 10,
   "metadata": {},
   "outputs": [],
   "source": [
    "def make_binary_indicators(df: pd.DataFrame, daily_prev_close_map=None):\n",
    "  make_binary_dt_features(df)\n",
    "  make_binary_close_indicators(df, daily_prev_close_map)"
   ]
  },
  {
   "cell_type": "code",
   "execution_count": 11,
   "metadata": {},
   "outputs": [],
   "source": [
    "def make_target(df: pd.DataFrame, window_size=10):\n",
    "  \"\"\"\n",
    "  df가 변형됨\n",
    "  close의 내일 ~ window_size 까지의 가격 변화율을 target으로 함\n",
    "  \"\"\"\n",
    "  df['target'] = df.close.rolling(window=window_size).mean().shift(-window_size) /df.close"
   ]
  },
  {
   "cell_type": "markdown",
   "metadata": {},
   "source": [
    "일단위로 데이터 모델링"
   ]
  },
  {
   "cell_type": "code",
   "execution_count": 12,
   "metadata": {},
   "outputs": [],
   "source": [
    "def get_daily_prev_close_map(df: pd.DataFrame):\n",
    "  \"\"\"일별 -> 전일자 종가 \"\"\"\n",
    "  return df.groupby(df.index.strftime('%Y-%m-%d')).close.last().shift(1)"
   ]
  },
  {
   "cell_type": "code",
   "execution_count": 13,
   "metadata": {},
   "outputs": [],
   "source": [
    "dic = {}\n",
    "for code, df in history_minute_dic.items():\n",
    "  sampler = df.resample('1D')\n",
    "  daily_prev_close_map = get_daily_prev_close_map(df)\n",
    "  datas = []\n",
    "  for i, (name, group) in enumerate(sampler):\n",
    "    if len(group) == 0:\n",
    "      continue\n",
    "    daily_df = group.copy()\n",
    "    make_basic_features(daily_df)\n",
    "    make_window_features(daily_df)\n",
    "    make_binary_indicators(daily_df, daily_prev_close_map=daily_prev_close_map)\n",
    "    make_target(daily_df, window_size=30)\n",
    "    datas.append(daily_df.dropna(axis=0))\n",
    "  dic[code] = pd.concat(datas)"
   ]
  },
  {
   "cell_type": "markdown",
   "metadata": {},
   "source": [
    "아래의 컬럼 지표를 활용한다."
   ]
  },
  {
   "cell_type": "code",
   "execution_count": 14,
   "metadata": {},
   "outputs": [],
   "source": [
    "new_cols = ['ma_w', 'macd_w', 'macdsignal_w', 'macdhist_w', 'rsi_w', 'ad_w', \n",
    "            'ts_end', 'ts_start', 'is_higher', 'offset_intra_day', 'target']\n",
    "compact_minute_dic = {code:df[new_cols] for code, df in dic.items()}\n",
    "merged_df = pd.merge(\n",
    "  compact_minute_dic['069500'], \n",
    "  compact_minute_dic['114800'], \n",
    "  left_index=True, \n",
    "  right_index=True, \n",
    "  suffixes=('_x', '_y')\n",
    "  )"
   ]
  },
  {
   "cell_type": "markdown",
   "metadata": {},
   "source": [
    "편의를 위해 pkl 저장"
   ]
  },
  {
   "cell_type": "code",
   "execution_count": 52,
   "metadata": {},
   "outputs": [],
   "source": [
    "# merged_df.to_pickle('.merged_for_baseline2_df.pkl')\n",
    "merged_df = pd.read_pickle('.merged_for_baseline2_df.pkl')"
   ]
  },
  {
   "cell_type": "code",
   "execution_count": 53,
   "metadata": {},
   "outputs": [
    {
     "data": {
      "text/plain": [
       "0.05    0.998153\n",
       "0.25    0.999382\n",
       "0.50    1.000004\n",
       "0.75    1.000613\n",
       "0.95    1.001771\n",
       "Name: target_x, dtype: float64"
      ]
     },
     "execution_count": 53,
     "metadata": {},
     "output_type": "execute_result"
    }
   ],
   "source": [
    "merged_df.target_x.quantile([0.05, 0.25, 0.5, 0.75, 0.95])"
   ]
  },
  {
   "cell_type": "markdown",
   "metadata": {},
   "source": [
    "ETF 수수료\n",
    "- 0.00015 (0.015%)"
   ]
  },
  {
   "cell_type": "code",
   "execution_count": 55,
   "metadata": {},
   "outputs": [
    {
     "data": {
      "text/plain": [
       "0.001847000000000043"
      ]
     },
     "execution_count": 55,
     "metadata": {},
     "output_type": "execute_result"
    }
   ],
   "source": [
    "1- 0.998153"
   ]
  },
  {
   "cell_type": "code",
   "execution_count": 56,
   "metadata": {},
   "outputs": [],
   "source": [
    "decision_up_threshold=0.001771\n",
    "decision_down_threshold=0.00184\n",
    "merged_df['label'] = 'NOP'\n",
    "merged_df.loc[(merged_df.target_x > 1 + decision_up_threshold) & (merged_df.target_y < 1 - decision_down_threshold), 'label'] = 'X'\n",
    "merged_df.loc[(merged_df.target_x < 1 - decision_down_threshold) & (merged_df.target_y > 1 + decision_up_threshold), 'label'] = 'Y'\n",
    "merged_df['label'] = merged_df.label.astype('category')"
   ]
  },
  {
   "cell_type": "code",
   "execution_count": 57,
   "metadata": {},
   "outputs": [],
   "source": [
    "merged_df = merged_df.shift(1)"
   ]
  },
  {
   "cell_type": "code",
   "execution_count": 58,
   "metadata": {},
   "outputs": [
    {
     "data": {
      "text/plain": [
       "NOP    0.918071\n",
       "Y      0.042553\n",
       "X      0.039376\n",
       "Name: label, dtype: float64"
      ]
     },
     "execution_count": 58,
     "metadata": {},
     "output_type": "execute_result"
    }
   ],
   "source": [
    "merged_df.label.value_counts(normalize=True)"
   ]
  },
  {
   "cell_type": "code",
   "execution_count": 59,
   "metadata": {},
   "outputs": [
    {
     "data": {
      "text/plain": [
       "NOP    69061\n",
       "Y       3201\n",
       "X       2962\n",
       "Name: label, dtype: int64"
      ]
     },
     "execution_count": 59,
     "metadata": {},
     "output_type": "execute_result"
    }
   ],
   "source": [
    "merged_df.label.value_counts(normalize=False)"
   ]
  },
  {
   "cell_type": "markdown",
   "metadata": {},
   "source": [
    "yy.label.cat.codes\n",
    "- category 를 숫자 코드 값으로 조회 가능"
   ]
  },
  {
   "cell_type": "markdown",
   "metadata": {},
   "source": [
    "# 피쳐 분석"
   ]
  },
  {
   "cell_type": "code",
   "execution_count": 60,
   "metadata": {},
   "outputs": [
    {
     "data": {
      "text/plain": [
       "Index(['ma_w_x', 'macd_w_x', 'macdsignal_w_x', 'macdhist_w_x', 'rsi_w_x',\n",
       "       'ad_w_x', 'ts_end_x', 'ts_start_x', 'is_higher_x', 'offset_intra_day_x',\n",
       "       'target_x', 'ma_w_y', 'macd_w_y', 'macdsignal_w_y', 'macdhist_w_y',\n",
       "       'rsi_w_y', 'ad_w_y', 'ts_end_y', 'ts_start_y', 'is_higher_y',\n",
       "       'offset_intra_day_y', 'target_y', 'label'],\n",
       "      dtype='object')"
      ]
     },
     "execution_count": 60,
     "metadata": {},
     "output_type": "execute_result"
    }
   ],
   "source": [
    "merged_df.columns"
   ]
  },
  {
   "cell_type": "markdown",
   "metadata": {},
   "source": [
    "plotly 를 이용한 EDA"
   ]
  },
  {
   "cell_type": "code",
   "execution_count": null,
   "metadata": {},
   "outputs": [],
   "source": [
    "import plotly.figure_factory as ff\n",
    "import plotly.graph_objects as go"
   ]
  },
  {
   "cell_type": "code",
   "execution_count": null,
   "metadata": {},
   "outputs": [],
   "source": [
    "merged_df.shape"
   ]
  },
  {
   "cell_type": "code",
   "execution_count": null,
   "metadata": {},
   "outputs": [],
   "source": [
    "df = merged_df[:10000]"
   ]
  },
  {
   "cell_type": "code",
   "execution_count": null,
   "metadata": {},
   "outputs": [],
   "source": [
    "def show_violin_plot(df, col):\n",
    "  fig = go.Figure()\n",
    "\n",
    "  ss = df[ df['label'] == 'X' ]\n",
    "  zz = df[ df['label'] == 'Y' ]\n",
    "  z_label = pd.Series('X', index=zz.index)\n",
    "\n",
    "  fig.add_trace(go.Violin(x=ss['label'],\n",
    "                          y=ss[col],\n",
    "                          legendgroup='X', scalegroup='X', name='X',\n",
    "                          side='negative',\n",
    "                          line_color='blue')\n",
    "              )\n",
    "  fig.add_trace(go.Violin(x=z_label,\n",
    "                          y=zz[col],\n",
    "                          legendgroup='Y', scalegroup='Y', name='Y',\n",
    "                          side='positive',\n",
    "                          line_color='orange')\n",
    "              )\n",
    "  fig.update_traces(meanline_visible=True)\n",
    "  fig.update_layout(violingap=0, violinmode='overlay')\n",
    "  fig.show()"
   ]
  },
  {
   "cell_type": "code",
   "execution_count": null,
   "metadata": {},
   "outputs": [],
   "source": [
    "show_violin_plot(df, 'ma_w_y')"
   ]
  },
  {
   "cell_type": "code",
   "execution_count": null,
   "metadata": {},
   "outputs": [],
   "source": [
    "fig = px.violin(df, y=\"offset_intra_day_x\", x=\"label\", color='label', box=True)\n",
    "fig.show()"
   ]
  },
  {
   "cell_type": "markdown",
   "metadata": {},
   "source": [
    "# FLAML\n",
    "\n",
    "AUTO ML 로서 lightgbm 의 최적 학습 결과를 찾는다."
   ]
  },
  {
   "cell_type": "markdown",
   "metadata": {},
   "source": [
    "저장된 데이터 로딩\n",
    "- dropna() : 결측치 제거\n",
    "- target_x, target_y 제거"
   ]
  },
  {
   "cell_type": "code",
   "execution_count": null,
   "metadata": {},
   "outputs": [],
   "source": [
    "# merged_df = pd.read_pickle('.merged_for_baseline2_df.pkl').dropna(axis=0).drop(columns=['target_x', 'target_y'])"
   ]
  },
  {
   "cell_type": "code",
   "execution_count": 61,
   "metadata": {},
   "outputs": [],
   "source": [
    "effective_cols = [\n",
    "\n",
    "       'ma_w_x', 'macd_w_x', 'macdsignal_w_x', 'macdhist_w_x', 'rsi_w_x', 'ad_w_x', 'is_higher_x', \n",
    "       'ts_end_x', 'ts_start_x', 'offset_intra_day_x', \n",
    "       'ma_w_y', 'macd_w_y', 'macdsignal_w_y', 'macdhist_w_y', 'rsi_w_y', 'ad_w_y', 'is_higher_y', \n",
    "\n",
    "\n",
    "       'label'\n",
    "       \n",
    "       ]"
   ]
  },
  {
   "cell_type": "code",
   "execution_count": 62,
   "metadata": {},
   "outputs": [],
   "source": [
    "data_df = merged_df[effective_cols].dropna(axis=0)\n",
    "# data_df =merged_df"
   ]
  },
  {
   "cell_type": "code",
   "execution_count": 63,
   "metadata": {},
   "outputs": [],
   "source": [
    "from flaml import AutoML\n",
    "automl = AutoML()"
   ]
  },
  {
   "cell_type": "code",
   "execution_count": 64,
   "metadata": {},
   "outputs": [],
   "source": [
    "from sktime.forecasting.model_selection import temporal_train_test_split"
   ]
  },
  {
   "cell_type": "markdown",
   "metadata": {},
   "source": [
    "스플릿\n",
    "- 학습 (검증 포함): ~ 2020-07-31\n",
    "- 테스트: 2022-08-01 ~ 2022-09-29 (30일의 경우는 미래 타겟을 계산할 수 없는 구간이 있어 29일까지로 함)"
   ]
  },
  {
   "cell_type": "code",
   "execution_count": 65,
   "metadata": {},
   "outputs": [],
   "source": [
    "learn_split = data_df.loc[:'2022-07-31']\n",
    "test_split = data_df.loc['2022-08-01':'2022-09-30']"
   ]
  },
  {
   "cell_type": "markdown",
   "metadata": {},
   "source": [
    "학습 데이터를 다시 학습(train)/검증(validation)으로 분할 8:2 "
   ]
  },
  {
   "cell_type": "code",
   "execution_count": 66,
   "metadata": {},
   "outputs": [],
   "source": [
    "X_train, X_val = temporal_train_test_split(learn_split, test_size=0.2)\n",
    "X_test = test_split"
   ]
  },
  {
   "cell_type": "code",
   "execution_count": 67,
   "metadata": {},
   "outputs": [],
   "source": [
    "y_train = X_train.pop('label')\n",
    "y_val = X_val.pop('label')\n",
    "y_test = X_test.pop('label')"
   ]
  },
  {
   "cell_type": "code",
   "execution_count": 68,
   "metadata": {},
   "outputs": [
    {
     "data": {
      "text/plain": [
       "NOP    0.933176\n",
       "Y      0.035972\n",
       "X      0.030852\n",
       "Name: label, dtype: float64"
      ]
     },
     "execution_count": 68,
     "metadata": {},
     "output_type": "execute_result"
    }
   ],
   "source": [
    "y_train.value_counts(normalize=True)"
   ]
  },
  {
   "cell_type": "code",
   "execution_count": 69,
   "metadata": {},
   "outputs": [
    {
     "data": {
      "text/plain": [
       "NOP    0.854308\n",
       "Y      0.079551\n",
       "X      0.066141\n",
       "Name: label, dtype: float64"
      ]
     },
     "execution_count": 69,
     "metadata": {},
     "output_type": "execute_result"
    }
   ],
   "source": [
    "y_val.value_counts(normalize=True)"
   ]
  },
  {
   "cell_type": "code",
   "execution_count": 70,
   "metadata": {},
   "outputs": [
    {
     "data": {
      "text/plain": [
       "NOP    0.933508\n",
       "Y      0.034443\n",
       "X      0.032049\n",
       "Name: label, dtype: float64"
      ]
     },
     "execution_count": 70,
     "metadata": {},
     "output_type": "execute_result"
    }
   ],
   "source": [
    "y_test.value_counts(normalize=True)"
   ]
  },
  {
   "cell_type": "code",
   "execution_count": 71,
   "metadata": {},
   "outputs": [],
   "source": [
    "from imblearn.over_sampling import RandomOverSampler\n",
    "from imblearn.combine import SMOTETomek"
   ]
  },
  {
   "cell_type": "code",
   "execution_count": 33,
   "metadata": {},
   "outputs": [],
   "source": [
    "# ros = RandomOverSampler(random_state=0)\n",
    "# X_resampled, y_resampled = ros.fit_resample(X_train, y_train)"
   ]
  },
  {
   "cell_type": "code",
   "execution_count": 72,
   "metadata": {},
   "outputs": [],
   "source": [
    "smt = SMOTETomek(random_state=42)\n",
    "X_resampled, y_resampled = smt.fit_resample(X_train, y_train)"
   ]
  },
  {
   "cell_type": "code",
   "execution_count": 73,
   "metadata": {},
   "outputs": [],
   "source": [
    "from sklearn.model_selection import train_test_split\n",
    "X_resampled_train, X_resampled_test, y_resampled_train, y_resampled_test = train_test_split(X_resampled, y_resampled, test_size=0.2, random_state=42)"
   ]
  },
  {
   "cell_type": "code",
   "execution_count": 74,
   "metadata": {},
   "outputs": [
    {
     "name": "stderr",
     "output_type": "stream",
     "text": [
      "[flaml.automl: 11-06 23:33:42] {2600} INFO - task = classification\n",
      "[flaml.automl: 11-06 23:33:42] {2602} INFO - Data split method: stratified\n",
      "[flaml.automl: 11-06 23:33:42] {2605} INFO - Evaluation method: holdout\n",
      "[flaml.automl: 11-06 23:33:42] {2727} INFO - Minimizing error metric: log_loss\n",
      "[flaml.automl: 11-06 23:33:42] {2869} INFO - List of ML learners in AutoML Run: ['lgbm']\n",
      "[flaml.automl: 11-06 23:33:42] {3164} INFO - iteration 0, current learner lgbm\n",
      "[flaml.automl: 11-06 23:33:42] {3297} INFO - Estimated sufficient time budget=13512s. Estimated necessary time budget=14s.\n",
      "[flaml.automl: 11-06 23:33:42] {3344} INFO -  at 0.7s,\testimator lgbm's best error=1.0243,\tbest estimator lgbm's best error=1.0243\n",
      "[flaml.automl: 11-06 23:33:42] {3164} INFO - iteration 1, current learner lgbm\n",
      "[flaml.automl: 11-06 23:33:42] {3344} INFO -  at 0.8s,\testimator lgbm's best error=1.0243,\tbest estimator lgbm's best error=1.0243\n",
      "[flaml.automl: 11-06 23:33:42] {3164} INFO - iteration 2, current learner lgbm\n",
      "[flaml.automl: 11-06 23:33:43] {3344} INFO -  at 1.0s,\testimator lgbm's best error=0.9639,\tbest estimator lgbm's best error=0.9639\n",
      "[flaml.automl: 11-06 23:33:43] {3164} INFO - iteration 3, current learner lgbm\n",
      "[flaml.automl: 11-06 23:33:43] {3344} INFO -  at 1.2s,\testimator lgbm's best error=0.8076,\tbest estimator lgbm's best error=0.8076\n",
      "[flaml.automl: 11-06 23:33:43] {3164} INFO - iteration 4, current learner lgbm\n",
      "[flaml.automl: 11-06 23:33:43] {3344} INFO -  at 1.3s,\testimator lgbm's best error=0.8076,\tbest estimator lgbm's best error=0.8076\n",
      "[flaml.automl: 11-06 23:33:43] {3164} INFO - iteration 5, current learner lgbm\n",
      "[flaml.automl: 11-06 23:33:43] {3344} INFO -  at 1.5s,\testimator lgbm's best error=0.7776,\tbest estimator lgbm's best error=0.7776\n",
      "[flaml.automl: 11-06 23:33:43] {3164} INFO - iteration 6, current learner lgbm\n",
      "[flaml.automl: 11-06 23:33:43] {3344} INFO -  at 1.7s,\testimator lgbm's best error=0.7776,\tbest estimator lgbm's best error=0.7776\n",
      "[flaml.automl: 11-06 23:33:43] {3164} INFO - iteration 7, current learner lgbm\n",
      "[flaml.automl: 11-06 23:33:43] {3344} INFO -  at 1.9s,\testimator lgbm's best error=0.7776,\tbest estimator lgbm's best error=0.7776\n",
      "[flaml.automl: 11-06 23:33:43] {3164} INFO - iteration 8, current learner lgbm\n",
      "[flaml.automl: 11-06 23:33:44] {3344} INFO -  at 2.2s,\testimator lgbm's best error=0.7530,\tbest estimator lgbm's best error=0.7530\n",
      "[flaml.automl: 11-06 23:33:44] {3164} INFO - iteration 9, current learner lgbm\n",
      "[flaml.automl: 11-06 23:33:44] {3344} INFO -  at 2.4s,\testimator lgbm's best error=0.7530,\tbest estimator lgbm's best error=0.7530\n",
      "[flaml.automl: 11-06 23:33:44] {3164} INFO - iteration 10, current learner lgbm\n",
      "[flaml.automl: 11-06 23:33:46] {3344} INFO -  at 4.1s,\testimator lgbm's best error=0.5310,\tbest estimator lgbm's best error=0.5310\n",
      "[flaml.automl: 11-06 23:33:46] {3164} INFO - iteration 11, current learner lgbm\n",
      "[flaml.automl: 11-06 23:33:49] {3344} INFO -  at 7.4s,\testimator lgbm's best error=0.5310,\tbest estimator lgbm's best error=0.5310\n",
      "[flaml.automl: 11-06 23:33:49] {3164} INFO - iteration 12, current learner lgbm\n",
      "[flaml.automl: 11-06 23:33:50] {3344} INFO -  at 8.6s,\testimator lgbm's best error=0.5310,\tbest estimator lgbm's best error=0.5310\n",
      "[flaml.automl: 11-06 23:33:50] {3164} INFO - iteration 13, current learner lgbm\n",
      "[flaml.automl: 11-06 23:33:51] {3344} INFO -  at 10.0s,\testimator lgbm's best error=0.5310,\tbest estimator lgbm's best error=0.5310\n",
      "[flaml.automl: 11-06 23:33:51] {3164} INFO - iteration 14, current learner lgbm\n",
      "[flaml.automl: 11-06 23:33:54] {3344} INFO -  at 12.0s,\testimator lgbm's best error=0.4774,\tbest estimator lgbm's best error=0.4774\n",
      "[flaml.automl: 11-06 23:33:54] {3164} INFO - iteration 15, current learner lgbm\n",
      "[flaml.automl: 11-06 23:33:57] {3344} INFO -  at 15.1s,\testimator lgbm's best error=0.4774,\tbest estimator lgbm's best error=0.4774\n",
      "[flaml.automl: 11-06 23:33:57] {3164} INFO - iteration 16, current learner lgbm\n",
      "[flaml.automl: 11-06 23:33:58] {3344} INFO -  at 16.5s,\testimator lgbm's best error=0.4774,\tbest estimator lgbm's best error=0.4774\n",
      "[flaml.automl: 11-06 23:33:58] {3164} INFO - iteration 17, current learner lgbm\n",
      "[flaml.automl: 11-06 23:34:04] {3344} INFO -  at 22.8s,\testimator lgbm's best error=0.4306,\tbest estimator lgbm's best error=0.4306\n",
      "[flaml.automl: 11-06 23:34:04] {3164} INFO - iteration 18, current learner lgbm\n",
      "[flaml.automl: 11-06 23:34:06] {3344} INFO -  at 25.0s,\testimator lgbm's best error=0.4306,\tbest estimator lgbm's best error=0.4306\n",
      "[flaml.automl: 11-06 23:34:06] {3164} INFO - iteration 19, current learner lgbm\n",
      "[flaml.automl: 11-06 23:34:09] {3344} INFO -  at 27.9s,\testimator lgbm's best error=0.4306,\tbest estimator lgbm's best error=0.4306\n",
      "[flaml.automl: 11-06 23:34:09] {3164} INFO - iteration 20, current learner lgbm\n",
      "[flaml.automl: 11-06 23:34:30] {3344} INFO -  at 48.2s,\testimator lgbm's best error=0.4306,\tbest estimator lgbm's best error=0.4306\n",
      "[flaml.automl: 11-06 23:34:30] {3164} INFO - iteration 21, current learner lgbm\n",
      "[flaml.automl: 11-06 23:34:40] {3344} INFO -  at 58.5s,\testimator lgbm's best error=0.2432,\tbest estimator lgbm's best error=0.2432\n",
      "[flaml.automl: 11-06 23:34:40] {3164} INFO - iteration 22, current learner lgbm\n",
      "[flaml.automl: 11-06 23:34:57] {3344} INFO -  at 75.4s,\testimator lgbm's best error=0.1910,\tbest estimator lgbm's best error=0.1910\n",
      "[flaml.automl: 11-06 23:34:57] {3164} INFO - iteration 23, current learner lgbm\n",
      "[flaml.automl: 11-06 23:35:07] {3344} INFO -  at 85.1s,\testimator lgbm's best error=0.1910,\tbest estimator lgbm's best error=0.1910\n",
      "[flaml.automl: 11-06 23:35:07] {3164} INFO - iteration 24, current learner lgbm\n",
      "[flaml.automl: 11-06 23:35:21] {3344} INFO -  at 99.9s,\testimator lgbm's best error=0.1910,\tbest estimator lgbm's best error=0.1910\n",
      "[flaml.automl: 11-06 23:35:21] {3164} INFO - iteration 25, current learner lgbm\n",
      "[flaml.automl: 11-06 23:35:43] {3344} INFO -  at 121.3s,\testimator lgbm's best error=0.0568,\tbest estimator lgbm's best error=0.0568\n",
      "[flaml.automl: 11-06 23:35:43] {3164} INFO - iteration 26, current learner lgbm\n",
      "[flaml.automl: 11-06 23:36:32] {3344} INFO -  at 170.7s,\testimator lgbm's best error=0.0568,\tbest estimator lgbm's best error=0.0568\n",
      "[flaml.automl: 11-06 23:36:32] {3164} INFO - iteration 27, current learner lgbm\n",
      "[flaml.automl: 11-06 23:36:38] {3344} INFO -  at 176.9s,\testimator lgbm's best error=0.0568,\tbest estimator lgbm's best error=0.0568\n",
      "[flaml.automl: 11-06 23:36:38] {3164} INFO - iteration 28, current learner lgbm\n",
      "[flaml.automl: 11-06 23:36:57] {3344} INFO -  at 195.7s,\testimator lgbm's best error=0.0568,\tbest estimator lgbm's best error=0.0568\n",
      "[flaml.automl: 11-06 23:36:57] {3164} INFO - iteration 29, current learner lgbm\n",
      "[flaml.automl: 11-06 23:37:03] {3344} INFO -  at 201.8s,\testimator lgbm's best error=0.0568,\tbest estimator lgbm's best error=0.0568\n",
      "[flaml.automl: 11-06 23:37:03] {3164} INFO - iteration 30, current learner lgbm\n",
      "[flaml.automl: 11-06 23:37:07] {3344} INFO -  at 205.6s,\testimator lgbm's best error=0.0568,\tbest estimator lgbm's best error=0.0568\n",
      "[flaml.automl: 11-06 23:37:07] {3164} INFO - iteration 31, current learner lgbm\n",
      "[flaml.automl: 11-06 23:37:25] {3344} INFO -  at 223.6s,\testimator lgbm's best error=0.0568,\tbest estimator lgbm's best error=0.0568\n",
      "[flaml.automl: 11-06 23:37:25] {3164} INFO - iteration 32, current learner lgbm\n",
      "[flaml.automl: 11-06 23:37:34] {3344} INFO -  at 232.9s,\testimator lgbm's best error=0.0568,\tbest estimator lgbm's best error=0.0568\n",
      "[flaml.automl: 11-06 23:37:34] {3164} INFO - iteration 33, current learner lgbm\n",
      "[flaml.automl: 11-06 23:38:02] {3344} INFO -  at 260.3s,\testimator lgbm's best error=0.0560,\tbest estimator lgbm's best error=0.0560\n",
      "[flaml.automl: 11-06 23:38:02] {3164} INFO - iteration 34, current learner lgbm\n",
      "[flaml.automl: 11-06 23:38:22] {3344} INFO -  at 280.4s,\testimator lgbm's best error=0.0560,\tbest estimator lgbm's best error=0.0560\n",
      "[flaml.automl: 11-06 23:38:22] {3164} INFO - iteration 35, current learner lgbm\n",
      "[flaml.automl: 11-06 23:38:42] {3344} INFO -  at 300.8s,\testimator lgbm's best error=0.0560,\tbest estimator lgbm's best error=0.0560\n",
      "[flaml.automl: 11-06 23:38:42] {3164} INFO - iteration 36, current learner lgbm\n",
      "[flaml.automl: 11-06 23:39:20] {3344} INFO -  at 338.7s,\testimator lgbm's best error=0.0560,\tbest estimator lgbm's best error=0.0560\n",
      "[flaml.automl: 11-06 23:39:20] {3164} INFO - iteration 37, current learner lgbm\n",
      "[flaml.automl: 11-06 23:39:25] {3344} INFO -  at 343.2s,\testimator lgbm's best error=0.0560,\tbest estimator lgbm's best error=0.0560\n",
      "[flaml.automl: 11-06 23:39:25] {3164} INFO - iteration 38, current learner lgbm\n",
      "[flaml.automl: 11-06 23:40:17] {3344} INFO -  at 395.1s,\testimator lgbm's best error=0.0522,\tbest estimator lgbm's best error=0.0522\n",
      "[flaml.automl: 11-06 23:40:17] {3164} INFO - iteration 39, current learner lgbm\n",
      "[flaml.automl: 11-06 23:40:35] {3344} INFO -  at 413.1s,\testimator lgbm's best error=0.0522,\tbest estimator lgbm's best error=0.0522\n",
      "[flaml.automl: 11-06 23:40:35] {3164} INFO - iteration 40, current learner lgbm\n",
      "[flaml.automl: 11-06 23:41:57] {3344} INFO -  at 495.2s,\testimator lgbm's best error=0.0522,\tbest estimator lgbm's best error=0.0522\n",
      "[flaml.automl: 11-06 23:41:57] {3164} INFO - iteration 41, current learner lgbm\n",
      "[flaml.automl: 11-06 23:42:03] {3344} INFO -  at 501.1s,\testimator lgbm's best error=0.0522,\tbest estimator lgbm's best error=0.0522\n",
      "[flaml.automl: 11-06 23:42:03] {3164} INFO - iteration 42, current learner lgbm\n",
      "[flaml.automl: 11-06 23:42:07] {3344} INFO -  at 505.9s,\testimator lgbm's best error=0.0522,\tbest estimator lgbm's best error=0.0522\n",
      "[flaml.automl: 11-06 23:42:07] {3164} INFO - iteration 43, current learner lgbm\n",
      "[flaml.automl: 11-06 23:44:16] {3344} INFO -  at 634.2s,\testimator lgbm's best error=0.0506,\tbest estimator lgbm's best error=0.0506\n",
      "[flaml.automl: 11-06 23:44:16] {3465} INFO - selected model: LGBMClassifier(colsample_bytree=0.5805150806812912,\n",
      "               learning_rate=0.040464524134700836, max_bin=1023,\n",
      "               min_child_samples=9, n_estimators=915, num_leaves=267,\n",
      "               reg_alpha=0.023296498194689437, reg_lambda=0.01198109649328531,\n",
      "               verbose=-1)\n",
      "[flaml.automl: 11-06 23:44:16] {2900} INFO - fit succeeded\n",
      "[flaml.automl: 11-06 23:44:16] {2901} INFO - Time taken to find the best model: 634.1594531536102\n",
      "[flaml.automl: 11-06 23:44:16] {2912} WARNING - Time taken to find the best model is 106% of the provided time budget and not all estimators' hyperparameter search converged. Consider increasing the time budget.\n"
     ]
    }
   ],
   "source": [
    "automl.fit(X_resampled_train, y_resampled_train, \n",
    "          task=\"classification\", \n",
    "          X_val=X_resampled_test, y_val=y_resampled_test, \n",
    "          time_budget=60*10, \n",
    "          log_file_name='.segment_automl_baseline2_10m.log', \n",
    "          estimator_list=[\"lgbm\"])"
   ]
  },
  {
   "cell_type": "code",
   "execution_count": 75,
   "metadata": {},
   "outputs": [],
   "source": [
    "'''pickle and save the automl object'''\n",
    "import pickle\n",
    "with open('.automl_baseline2_balanced_10m.pkl', 'wb') as f:\n",
    "    pickle.dump(automl, f, pickle.HIGHEST_PROTOCOL)\n",
    "'''load pickled automl object'''\n",
    "with open('.automl_baseline2_balanced_10m.pkl', 'rb') as f:\n",
    "    automl = pickle.load(f)"
   ]
  },
  {
   "cell_type": "markdown",
   "metadata": {},
   "source": [
    "베스트 모델 구조"
   ]
  },
  {
   "cell_type": "code",
   "execution_count": 76,
   "metadata": {},
   "outputs": [
    {
     "name": "stdout",
     "output_type": "stream",
     "text": [
      "Best ML leaner: lgbm\n",
      "Best hyperparmeter config: {'n_estimators': 2337, 'num_leaves': 267, 'min_child_samples': 9, 'learning_rate': 0.040464524134700836, 'log_max_bin': 10, 'colsample_bytree': 0.5805150806812912, 'reg_alpha': 0.023296498194689437, 'reg_lambda': 0.01198109649328531, 'FLAML_sample_size': 86870}\n",
      "Best loss on validation data: 0.05062\n",
      "Training duration of best run: 128.2 s\n"
     ]
    }
   ],
   "source": [
    "'''retrieve best config and best learner'''\n",
    "print('Best ML leaner:', automl.best_estimator)\n",
    "print('Best hyperparmeter config:', automl.best_config)\n",
    "print('Best loss on validation data: {0:.4g}'.format(automl.best_loss))\n",
    "print('Training duration of best run: {0:.4g} s'.format(automl.best_config_train_time))"
   ]
  },
  {
   "cell_type": "code",
   "execution_count": 77,
   "metadata": {},
   "outputs": [],
   "source": [
    "'''compute predictions of testing dataset''' \n",
    "y_pred = automl.predict(X_test)\n",
    "# print('Predicted labels', y_pred)\n",
    "# print('True labels', y_test)\n",
    "y_pred_proba = automl.predict_proba(X_test)"
   ]
  },
  {
   "cell_type": "code",
   "execution_count": 78,
   "metadata": {},
   "outputs": [
    {
     "name": "stdout",
     "output_type": "stream",
     "text": [
      "accuracy = 0.04038921924472927\n"
     ]
    }
   ],
   "source": [
    "''' compute different metric values on testing dataset'''\n",
    "from flaml.ml import sklearn_metric_loss_score\n",
    "print('accuracy', '=', 1 - sklearn_metric_loss_score('accuracy', y_pred, y_test))"
   ]
  },
  {
   "cell_type": "code",
   "execution_count": 79,
   "metadata": {},
   "outputs": [
    {
     "data": {
      "text/plain": [
       "Y      0.543285\n",
       "X      0.454321\n",
       "NOP    0.002394\n",
       "dtype: float64"
      ]
     },
     "execution_count": 79,
     "metadata": {},
     "output_type": "execute_result"
    }
   ],
   "source": [
    "pd.Series(y_pred).value_counts(normalize=True)"
   ]
  },
  {
   "cell_type": "code",
   "execution_count": 80,
   "metadata": {},
   "outputs": [
    {
     "data": {
      "text/plain": [
       "NOP    0.933508\n",
       "Y      0.034443\n",
       "X      0.032049\n",
       "Name: label, dtype: float64"
      ]
     },
     "execution_count": 80,
     "metadata": {},
     "output_type": "execute_result"
    }
   ],
   "source": [
    "y_test.value_counts(normalize=True)"
   ]
  },
  {
   "cell_type": "markdown",
   "metadata": {},
   "source": [
    " AUTO ML 탐색 커브"
   ]
  },
  {
   "cell_type": "code",
   "execution_count": 81,
   "metadata": {},
   "outputs": [
    {
     "data": {
      "image/png": "[encoded data removed]",
      "text/plain": [
       "<Figure size 640x480 with 1 Axes>"
      ]
     },
     "metadata": {},
     "output_type": "display_data"
    }
   ],
   "source": [
    "from flaml.data import get_output_from_log\n",
    "import matplotlib.pyplot as plt\n",
    "import numpy as np\n",
    "\n",
    "time_history, best_valid_loss_history, valid_loss_history, config_history, metric_history = \\\n",
    "    get_output_from_log(filename='.segment_automl_0.5h.log', time_budget=60)\n",
    "\n",
    "plt.title(\"Learning Curve\")\n",
    "plt.xlabel(\"Wall Clock Time (s)\")\n",
    "plt.ylabel(\"Validation loss\")\n",
    "plt.step(time_history, np.array(best_valid_loss_history), where=\"post\")\n",
    "plt.show()"
   ]
  },
  {
   "cell_type": "markdown",
   "metadata": {},
   "source": [
    "학습에 영향력이 큰 피쳐"
   ]
  },
  {
   "cell_type": "code",
   "execution_count": 82,
   "metadata": {},
   "outputs": [
    {
     "data": {
      "text/plain": [
       "<AxesSubplot: >"
      ]
     },
     "execution_count": 82,
     "metadata": {},
     "output_type": "execute_result"
    },
    {
     "data": {
      "image/png": "[encoded data removed]",
      "text/plain": [
       "<Figure size 640x480 with 1 Axes>"
      ]
     },
     "metadata": {},
     "output_type": "display_data"
    }
   ],
   "source": [
    "pd.Series(automl.feature_importances_, index=automl.feature_names_in_).sort_values(ascending=False).plot.bar()"
   ]
  },
  {
   "cell_type": "code",
   "execution_count": 83,
   "metadata": {},
   "outputs": [],
   "source": [
    "from sklearn.metrics import classification_report"
   ]
  },
  {
   "cell_type": "code",
   "execution_count": 84,
   "metadata": {},
   "outputs": [],
   "source": [
    "report = classification_report(y_test, y_pred)"
   ]
  },
  {
   "cell_type": "code",
   "execution_count": 85,
   "metadata": {},
   "outputs": [
    {
     "name": "stdout",
     "output_type": "stream",
     "text": [
      "              precision    recall  f1-score   support\n",
      "\n",
      "         NOP       0.84      0.00      0.00     12088\n",
      "           X       0.04      0.54      0.07       415\n",
      "           Y       0.04      0.61      0.07       446\n",
      "\n",
      "    accuracy                           0.04     12949\n",
      "   macro avg       0.31      0.38      0.05     12949\n",
      "weighted avg       0.79      0.04      0.01     12949\n",
      "\n"
     ]
    }
   ],
   "source": [
    "print(report)"
   ]
  },
  {
   "cell_type": "markdown",
   "metadata": {},
   "source": [
    "예측 결과 저장"
   ]
  },
  {
   "cell_type": "code",
   "execution_count": 86,
   "metadata": {},
   "outputs": [],
   "source": [
    "pd.Series(y_pred, index=y_test.index).astype('category').to_pickle('.y_pred_baseline2_10m.pkl')"
   ]
  },
  {
   "cell_type": "code",
   "execution_count": 87,
   "metadata": {},
   "outputs": [],
   "source": [
    "prob_df = pd.DataFrame(y_pred_proba, columns=['NOP', 'X', 'Q'], index = y_test.index)\n",
    "prob_df.to_pickle('.y_prob_baseline2_10m.pkl')"
   ]
  },
  {
   "cell_type": "code",
   "execution_count": 88,
   "metadata": {},
   "outputs": [
    {
     "data": {
      "text/plain": [
       "0.25    0.038226\n",
       "0.50    0.378475\n",
       "0.75    0.885301\n",
       "Name: X, dtype: float64"
      ]
     },
     "execution_count": 88,
     "metadata": {},
     "output_type": "execute_result"
    }
   ],
   "source": [
    "prob_df.X.quantile([0.25, 0.5, 0.75])"
   ]
  },
  {
   "cell_type": "code",
   "execution_count": 89,
   "metadata": {},
   "outputs": [
    {
     "data": {
      "text/html": [
       "<div>\n",
       "<style scoped>\n",
       "    .dataframe tbody tr th:only-of-type {\n",
       "        vertical-align: middle;\n",
       "    }\n",
       "\n",
       "    .dataframe tbody tr th {\n",
       "        vertical-align: top;\n",
       "    }\n",
       "\n",
       "    .dataframe thead th {\n",
       "        text-align: right;\n",
       "    }\n",
       "</style>\n",
       "<table border=\"1\" class=\"dataframe\">\n",
       "  <thead>\n",
       "    <tr style=\"text-align: right;\">\n",
       "      <th></th>\n",
       "      <th>NOP</th>\n",
       "      <th>X</th>\n",
       "      <th>Q</th>\n",
       "    </tr>\n",
       "    <tr>\n",
       "      <th>dt</th>\n",
       "      <th></th>\n",
       "      <th></th>\n",
       "      <th></th>\n",
       "    </tr>\n",
       "  </thead>\n",
       "  <tbody>\n",
       "    <tr>\n",
       "      <th>2022-08-01 09:43:00+09:00</th>\n",
       "      <td>0.353662</td>\n",
       "      <td>0.406593</td>\n",
       "      <td>0.239745</td>\n",
       "    </tr>\n",
       "    <tr>\n",
       "      <th>2022-08-01 09:44:00+09:00</th>\n",
       "      <td>0.010359</td>\n",
       "      <td>0.245509</td>\n",
       "      <td>0.744132</td>\n",
       "    </tr>\n",
       "    <tr>\n",
       "      <th>2022-08-01 09:45:00+09:00</th>\n",
       "      <td>0.005529</td>\n",
       "      <td>0.051476</td>\n",
       "      <td>0.942995</td>\n",
       "    </tr>\n",
       "    <tr>\n",
       "      <th>2022-08-01 09:46:00+09:00</th>\n",
       "      <td>0.565070</td>\n",
       "      <td>0.394338</td>\n",
       "      <td>0.040592</td>\n",
       "    </tr>\n",
       "    <tr>\n",
       "      <th>2022-08-01 09:47:00+09:00</th>\n",
       "      <td>0.048272</td>\n",
       "      <td>0.936052</td>\n",
       "      <td>0.015676</td>\n",
       "    </tr>\n",
       "    <tr>\n",
       "      <th>...</th>\n",
       "      <td>...</td>\n",
       "      <td>...</td>\n",
       "      <td>...</td>\n",
       "    </tr>\n",
       "    <tr>\n",
       "      <th>2022-09-30 14:47:00+09:00</th>\n",
       "      <td>0.006192</td>\n",
       "      <td>0.008754</td>\n",
       "      <td>0.985053</td>\n",
       "    </tr>\n",
       "    <tr>\n",
       "      <th>2022-09-30 14:48:00+09:00</th>\n",
       "      <td>0.005047</td>\n",
       "      <td>0.034370</td>\n",
       "      <td>0.960583</td>\n",
       "    </tr>\n",
       "    <tr>\n",
       "      <th>2022-09-30 14:49:00+09:00</th>\n",
       "      <td>0.060468</td>\n",
       "      <td>0.480717</td>\n",
       "      <td>0.458815</td>\n",
       "    </tr>\n",
       "    <tr>\n",
       "      <th>2022-09-30 14:50:00+09:00</th>\n",
       "      <td>0.049504</td>\n",
       "      <td>0.311447</td>\n",
       "      <td>0.639049</td>\n",
       "    </tr>\n",
       "    <tr>\n",
       "      <th>2022-09-30 14:51:00+09:00</th>\n",
       "      <td>0.023037</td>\n",
       "      <td>0.832800</td>\n",
       "      <td>0.144163</td>\n",
       "    </tr>\n",
       "  </tbody>\n",
       "</table>\n",
       "<p>12949 rows × 3 columns</p>\n",
       "</div>"
      ],
      "text/plain": [
       "                                NOP         X         Q\n",
       "dt                                                     \n",
       "2022-08-01 09:43:00+09:00  0.353662  0.406593  0.239745\n",
       "2022-08-01 09:44:00+09:00  0.010359  0.245509  0.744132\n",
       "2022-08-01 09:45:00+09:00  0.005529  0.051476  0.942995\n",
       "2022-08-01 09:46:00+09:00  0.565070  0.394338  0.040592\n",
       "2022-08-01 09:47:00+09:00  0.048272  0.936052  0.015676\n",
       "...                             ...       ...       ...\n",
       "2022-09-30 14:47:00+09:00  0.006192  0.008754  0.985053\n",
       "2022-09-30 14:48:00+09:00  0.005047  0.034370  0.960583\n",
       "2022-09-30 14:49:00+09:00  0.060468  0.480717  0.458815\n",
       "2022-09-30 14:50:00+09:00  0.049504  0.311447  0.639049\n",
       "2022-09-30 14:51:00+09:00  0.023037  0.832800  0.144163\n",
       "\n",
       "[12949 rows x 3 columns]"
      ]
     },
     "execution_count": 89,
     "metadata": {},
     "output_type": "execute_result"
    }
   ],
   "source": [
    "prob_df"
   ]
  },
  {
   "cell_type": "code",
   "execution_count": null,
   "metadata": {},
   "outputs": [],
   "source": []
  }
 ],
 "metadata": {
  "kernelspec": {
   "display_name": "Python 3.8.13 ('AIFT64')",
   "language": "python",
   "name": "python3"
  },
  "language_info": {
   "codemirror_mode": {
    "name": "ipython",
    "version": 3
   },
   "file_extension": ".py",
   "mimetype": "text/x-python",
   "name": "python",
   "nbconvert_exporter": "python",
   "pygments_lexer": "ipython3",
   "version": "3.8.13"
  },
  "orig_nbformat": 4,
  "vscode": {
   "interpreter": {
    "hash": "8f2e7214e2fa744f58ece3712087e8bfa1cb30f09e0f590b08c16aec3d891a12"
   }
  }
 },
 "nbformat": 4,
 "nbformat_minor": 2
}
